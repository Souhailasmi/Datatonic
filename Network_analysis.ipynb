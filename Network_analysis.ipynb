{
 "cells": [
  {
   "cell_type": "markdown",
   "metadata": {},
   "source": [
    "# Libraries :"
   ]
  },
  {
   "cell_type": "code",
   "execution_count": 1,
   "metadata": {},
   "outputs": [],
   "source": [
    "import networkx as nx\n",
    "import numpy as np\n",
    "import pandas as pd\n",
    "from operator import itemgetter\n",
    "import matplotlib.pyplot as plt\n",
    "import collections\n",
    "from community import community_louvain\n",
    "from networkx.algorithms.community.centrality import girvan_newman\n",
    "import itertools\n",
    "%matplotlib inline\n",
    "import seaborn as sns\n",
    "import warnings\n",
    "warnings.filterwarnings('ignore')"
   ]
  },
  {
   "cell_type": "code",
   "execution_count": 2,
   "metadata": {},
   "outputs": [
    {
     "data": {
      "text/plain": [
       "True"
      ]
     },
     "execution_count": 2,
     "metadata": {},
     "output_type": "execute_result"
    }
   ],
   "source": [
    "# Importing data Player summaries\n",
    "users = pd.read_csv('data/Player_Summaries.csv')\n",
    "\n",
    "# Extracting a subset of columns:\n",
    "users = users[['steamid','personaname','lastlogoff','primaryclanid','timecreated','gameid','gameserverip','loccountrycode','locstatecode','loccityid','dateretrieved']]\n",
    "\n",
    "# Checking the unicity of steam id:\n",
    "users.steamid.is_unique"
   ]
  },
  {
   "cell_type": "code",
   "execution_count": 3,
   "metadata": {},
   "outputs": [
    {
     "data": {
      "text/html": [
       "<div>\n",
       "<style scoped>\n",
       "    .dataframe tbody tr th:only-of-type {\n",
       "        vertical-align: middle;\n",
       "    }\n",
       "\n",
       "    .dataframe tbody tr th {\n",
       "        vertical-align: top;\n",
       "    }\n",
       "\n",
       "    .dataframe thead th {\n",
       "        text-align: right;\n",
       "    }\n",
       "</style>\n",
       "<table border=\"1\" class=\"dataframe\">\n",
       "  <thead>\n",
       "    <tr style=\"text-align: right;\">\n",
       "      <th></th>\n",
       "      <th>personaname</th>\n",
       "      <th>lastlogoff</th>\n",
       "      <th>primaryclanid</th>\n",
       "      <th>timecreated</th>\n",
       "      <th>gameid</th>\n",
       "      <th>gameserverip</th>\n",
       "      <th>loccountrycode</th>\n",
       "      <th>locstatecode</th>\n",
       "      <th>loccityid</th>\n",
       "      <th>dateretrieved</th>\n",
       "    </tr>\n",
       "    <tr>\n",
       "      <th>steamid</th>\n",
       "      <th></th>\n",
       "      <th></th>\n",
       "      <th></th>\n",
       "      <th></th>\n",
       "      <th></th>\n",
       "      <th></th>\n",
       "      <th></th>\n",
       "      <th></th>\n",
       "      <th></th>\n",
       "      <th></th>\n",
       "    </tr>\n",
       "  </thead>\n",
       "  <tbody>\n",
       "    <tr>\n",
       "      <td>76561198024350932</td>\n",
       "      <td>DGJarski</td>\n",
       "      <td>2011-12-07 02:31:52</td>\n",
       "      <td>NaN</td>\n",
       "      <td>NaN</td>\n",
       "      <td>NaN</td>\n",
       "      <td>NaN</td>\n",
       "      <td>NaN</td>\n",
       "      <td>NaN</td>\n",
       "      <td>NaN</td>\n",
       "      <td>2013-03-08 01:48:13</td>\n",
       "    </tr>\n",
       "    <tr>\n",
       "      <td>76561197972375740</td>\n",
       "      <td>Kregger</td>\n",
       "      <td>2013-02-18 03:53:19</td>\n",
       "      <td>NaN</td>\n",
       "      <td>NaN</td>\n",
       "      <td>NaN</td>\n",
       "      <td>NaN</td>\n",
       "      <td>NaN</td>\n",
       "      <td>NaN</td>\n",
       "      <td>NaN</td>\n",
       "      <td>2013-02-28 14:38:19</td>\n",
       "    </tr>\n",
       "    <tr>\n",
       "      <td>76561197972581736</td>\n",
       "      <td>3ulle+ C@+cher</td>\n",
       "      <td>2011-08-29 18:36:52</td>\n",
       "      <td>1.035828e+17</td>\n",
       "      <td>2004-12-29 09:00:06</td>\n",
       "      <td>NaN</td>\n",
       "      <td>NaN</td>\n",
       "      <td>NaN</td>\n",
       "      <td>NaN</td>\n",
       "      <td>NaN</td>\n",
       "      <td>2013-02-28 14:38:22</td>\n",
       "    </tr>\n",
       "    <tr>\n",
       "      <td>76561198027776732</td>\n",
       "      <td>ÐºÐ°Â®Ð»Â©Ð¾Ð½Â©</td>\n",
       "      <td>2010-11-23 08:13:28</td>\n",
       "      <td>NaN</td>\n",
       "      <td>NaN</td>\n",
       "      <td>NaN</td>\n",
       "      <td>NaN</td>\n",
       "      <td>NaN</td>\n",
       "      <td>NaN</td>\n",
       "      <td>NaN</td>\n",
       "      <td>2013-03-08 14:45:09</td>\n",
       "    </tr>\n",
       "    <tr>\n",
       "      <td>76561198080962334</td>\n",
       "      <td>Djcs124</td>\n",
       "      <td>2013-03-14 16:37:21</td>\n",
       "      <td>1.035828e+17</td>\n",
       "      <td>2013-01-08 13:54:23</td>\n",
       "      <td>NaN</td>\n",
       "      <td>NaN</td>\n",
       "      <td>NaN</td>\n",
       "      <td>NaN</td>\n",
       "      <td>NaN</td>\n",
       "      <td>2013-03-14 23:02:27</td>\n",
       "    </tr>\n",
       "  </tbody>\n",
       "</table>\n",
       "</div>"
      ],
      "text/plain": [
       "                        personaname           lastlogoff  primaryclanid  \\\n",
       "steamid                                                                   \n",
       "76561198024350932          DGJarski  2011-12-07 02:31:52            NaN   \n",
       "76561197972375740           Kregger  2013-02-18 03:53:19            NaN   \n",
       "76561197972581736    3ulle+ C@+cher  2011-08-29 18:36:52   1.035828e+17   \n",
       "76561198027776732  ÐºÐ°Â®Ð»Â©Ð¾Ð½Â©  2010-11-23 08:13:28            NaN   \n",
       "76561198080962334           Djcs124  2013-03-14 16:37:21   1.035828e+17   \n",
       "\n",
       "                           timecreated  gameid gameserverip loccountrycode  \\\n",
       "steamid                                                                      \n",
       "76561198024350932                  NaN     NaN          NaN            NaN   \n",
       "76561197972375740                  NaN     NaN          NaN            NaN   \n",
       "76561197972581736  2004-12-29 09:00:06     NaN          NaN            NaN   \n",
       "76561198027776732                  NaN     NaN          NaN            NaN   \n",
       "76561198080962334  2013-01-08 13:54:23     NaN          NaN            NaN   \n",
       "\n",
       "                  locstatecode  loccityid        dateretrieved  \n",
       "steamid                                                         \n",
       "76561198024350932          NaN        NaN  2013-03-08 01:48:13  \n",
       "76561197972375740          NaN        NaN  2013-02-28 14:38:19  \n",
       "76561197972581736          NaN        NaN  2013-02-28 14:38:22  \n",
       "76561198027776732          NaN        NaN  2013-03-08 14:45:09  \n",
       "76561198080962334          NaN        NaN  2013-03-14 23:02:27  "
      ]
     },
     "execution_count": 3,
     "metadata": {},
     "output_type": "execute_result"
    }
   ],
   "source": [
    "#Changing index to steamid\n",
    "users.set_index('steamid', inplace=True)\n",
    "users.head(5)"
   ]
  },
  {
   "cell_type": "code",
   "execution_count": 4,
   "metadata": {},
   "outputs": [],
   "source": [
    "## Information about the dataset\n",
    "def info(df):\n",
    "    print('The number of rows:', len(df))\n",
    "    print('The number of columns:', len(df.columns))\n",
    "    print('Columns name and type:')\n",
    "    print(df.dtypes)\n",
    "    print('Null values among the columns:')\n",
    "    print(df.isnull().any())        "
   ]
  },
  {
   "cell_type": "code",
   "execution_count": 5,
   "metadata": {},
   "outputs": [
    {
     "name": "stdout",
     "output_type": "stream",
     "text": [
      "The number of rows: 250000\n",
      "The number of columns: 10\n",
      "Columns name and type:\n",
      "personaname        object\n",
      "lastlogoff         object\n",
      "primaryclanid     float64\n",
      "timecreated        object\n",
      "gameid            float64\n",
      "gameserverip       object\n",
      "loccountrycode     object\n",
      "locstatecode       object\n",
      "loccityid         float64\n",
      "dateretrieved      object\n",
      "dtype: object\n",
      "Null values among the columns:\n",
      "personaname        True\n",
      "lastlogoff         True\n",
      "primaryclanid      True\n",
      "timecreated        True\n",
      "gameid             True\n",
      "gameserverip       True\n",
      "loccountrycode     True\n",
      "locstatecode       True\n",
      "loccityid          True\n",
      "dateretrieved     False\n",
      "dtype: bool\n"
     ]
    }
   ],
   "source": [
    "info(users)"
   ]
  },
  {
   "cell_type": "markdown",
   "metadata": {},
   "source": [
    "### Building the network :\n",
    "Our network will be generated from the dataset friends. The edges set of the graph $E(G)$ will be extracted from the columns `steamid_a`and `steamid_b`. To begin, we will inspect the number of nodes and the uniqueness of the two columns."
   ]
  },
  {
   "cell_type": "code",
   "execution_count": 6,
   "metadata": {},
   "outputs": [
    {
     "name": "stdout",
     "output_type": "stream",
     "text": [
      "The number of unique elements in steamid_a 71091\n",
      "The number of unique elements in steamid_b 760107\n",
      "the number of shared elements between the two columns 1\n"
     ]
    },
    {
     "data": {
      "text/html": [
       "<div>\n",
       "<style scoped>\n",
       "    .dataframe tbody tr th:only-of-type {\n",
       "        vertical-align: middle;\n",
       "    }\n",
       "\n",
       "    .dataframe tbody tr th {\n",
       "        vertical-align: top;\n",
       "    }\n",
       "\n",
       "    .dataframe thead th {\n",
       "        text-align: right;\n",
       "    }\n",
       "</style>\n",
       "<table border=\"1\" class=\"dataframe\">\n",
       "  <thead>\n",
       "    <tr style=\"text-align: right;\">\n",
       "      <th></th>\n",
       "      <th>steamid_a</th>\n",
       "      <th>steamid_b</th>\n",
       "      <th>friend_since</th>\n",
       "      <th>dateretrieved</th>\n",
       "    </tr>\n",
       "  </thead>\n",
       "  <tbody>\n",
       "    <tr>\n",
       "      <td>0</td>\n",
       "      <td>76561198081638400</td>\n",
       "      <td>76561198061647456</td>\n",
       "      <td>2013-02-22 05:24:36 UTC</td>\n",
       "      <td>2013-09-24 13:31:25 UTC</td>\n",
       "    </tr>\n",
       "    <tr>\n",
       "      <td>1</td>\n",
       "      <td>76561198081638400</td>\n",
       "      <td>76561198050245657</td>\n",
       "      <td>2013-01-23 13:04:35 UTC</td>\n",
       "      <td>2013-09-24 13:31:25 UTC</td>\n",
       "    </tr>\n",
       "    <tr>\n",
       "      <td>2</td>\n",
       "      <td>76561198001291264</td>\n",
       "      <td>76561198009238138</td>\n",
       "      <td>2009-12-07 09:55:10 UTC</td>\n",
       "      <td>2013-06-09 01:01:03 UTC</td>\n",
       "    </tr>\n",
       "    <tr>\n",
       "      <td>3</td>\n",
       "      <td>76561197989101568</td>\n",
       "      <td>76561198031884772</td>\n",
       "      <td>2012-05-06 13:18:45 UTC</td>\n",
       "      <td>2013-07-18 01:36:51 UTC</td>\n",
       "    </tr>\n",
       "    <tr>\n",
       "      <td>4</td>\n",
       "      <td>76561197989101568</td>\n",
       "      <td>76561198085268255</td>\n",
       "      <td>2013-10-11 14:05:12 UTC</td>\n",
       "      <td>2013-10-24 23:24:37 UTC</td>\n",
       "    </tr>\n",
       "  </tbody>\n",
       "</table>\n",
       "</div>"
      ],
      "text/plain": [
       "           steamid_a          steamid_b             friend_since  \\\n",
       "0  76561198081638400  76561198061647456  2013-02-22 05:24:36 UTC   \n",
       "1  76561198081638400  76561198050245657  2013-01-23 13:04:35 UTC   \n",
       "2  76561198001291264  76561198009238138  2009-12-07 09:55:10 UTC   \n",
       "3  76561197989101568  76561198031884772  2012-05-06 13:18:45 UTC   \n",
       "4  76561197989101568  76561198085268255  2013-10-11 14:05:12 UTC   \n",
       "\n",
       "             dateretrieved  \n",
       "0  2013-09-24 13:31:25 UTC  \n",
       "1  2013-09-24 13:31:25 UTC  \n",
       "2  2013-06-09 01:01:03 UTC  \n",
       "3  2013-07-18 01:36:51 UTC  \n",
       "4  2013-10-24 23:24:37 UTC  "
      ]
     },
     "execution_count": 6,
     "metadata": {},
     "output_type": "execute_result"
    }
   ],
   "source": [
    "## Importing data : Friends\n",
    "friends = pd.read_csv('data/Friends.csv' )\n",
    "print('The number of unique elements in steamid_a',len(friends.steamid_a.unique()))\n",
    "print('The number of unique elements in steamid_b',len(friends.steamid_b.unique()))\n",
    "print('the number of shared elements between the two columns',len(np.where(friends.steamid_a.unique()==friends.steamid_b.unique())))\n",
    "friends.head(5)"
   ]
  },
  {
   "cell_type": "code",
   "execution_count": 7,
   "metadata": {},
   "outputs": [
    {
     "name": "stdout",
     "output_type": "stream",
     "text": [
      "The number of rows: 805329\n",
      "The number of columns: 4\n",
      "Columns name and type:\n",
      "steamid_a         int64\n",
      "steamid_b         int64\n",
      "friend_since     object\n",
      "dateretrieved    object\n",
      "dtype: object\n",
      "Null values among the columns:\n",
      "steamid_a        False\n",
      "steamid_b        False\n",
      "friend_since     False\n",
      "dateretrieved    False\n",
      "dtype: bool\n"
     ]
    }
   ],
   "source": [
    "info(friends)"
   ]
  },
  {
   "cell_type": "markdown",
   "metadata": {},
   "source": [
    "Here we will built a friendship network : the nodes will be the users and the edges will be the friendship relation. The graph is undirected since the friendship relation is symetric."
   ]
  },
  {
   "cell_type": "markdown",
   "metadata": {},
   "source": [
    "## Graph discription :\n",
    "Graph description will give us a summary about the network:\n",
    "\n",
    "* The number of nodes \n",
    "* The number of edges \n",
    "* The average shortest path : the average subject to all possible pairs of nodes of the length of all shortest paths\n",
    "* The connectivity of the graph\n",
    "* Sparsity\" of a graph with $n$ nodes is defined as follows: \n",
    "$ L = \\frac{|E|}{|E_{max}|}$, where $E_{max} = \\frac{n * (n-1)}{2}$\n",
    "* The transitivity : global clustering coefficient or the ratio of all existing triangles (closed triples) over all possible triangles"
   ]
  },
  {
   "cell_type": "code",
   "execution_count": 8,
   "metadata": {},
   "outputs": [],
   "source": [
    "def describe_graph(G):\n",
    "    print(nx.info(G))\n",
    "    if nx.is_connected(G):\n",
    "        print(\"Avg. Shortest Path Length: %.4f\" %nx.average_shortest_path_length(G))\n",
    "        print(\"Diameter: %.4f\" %nx.diameter(G)) \n",
    "    else:\n",
    "        print(\"Graph is not connected\")\n",
    "        print(\"Diameter and Avg shortest path length are not defined!\")\n",
    "    print(\"Sparsity: %.4f\" %nx.density(G))  \n",
    "    print(\"Global clustering coefficient aka Transitivity: %.4f\" %nx.transitivity(G))"
   ]
  },
  {
   "cell_type": "markdown",
   "metadata": {},
   "source": [
    "## Degree distribution :"
   ]
  },
  {
   "cell_type": "code",
   "execution_count": 9,
   "metadata": {},
   "outputs": [],
   "source": [
    "def plot_degree_distribution(G,log=False):\n",
    "    degrees = {}\n",
    "    \n",
    "    for node in G.nodes():\n",
    "        degree = G.degree(node)\n",
    "        \n",
    "        if degree not in degrees:\n",
    "            degrees[degree] = 0\n",
    "        degrees[degree] += 1\n",
    "    sorted_degree = sorted(degrees.items())\n",
    "    deg = [k for (k,v) in sorted_degree]\n",
    "    cnt = [v for (k,v) in sorted_degree]\n",
    "    print('The maximum degree is',max(deg))\n",
    "    print('The minimum degree is',min(deg))\n",
    "  \n",
    "    if log :\n",
    "        fig, ax = plt.subplots(figsize=(20,5))\n",
    "        plt.bar(deg, np.log(cnt),alpha=0.7, width=0.80, color='b')\n",
    "        plt.title(\"Degree Distribution\")\n",
    "        plt.ylabel(\"log(Frequency)\")\n",
    "        plt.xlabel(\"Degree\")\n",
    "        ax.set_xticks([d+0.05 for d in deg])\n",
    "        ax.set_xticklabels(deg)\n",
    "    else:\n",
    "        fig, ax = plt.subplots()\n",
    "        plt.bar(deg, cnt, width=0.80, color='b')\n",
    "        plt.title(\"Degree Distribution\")\n",
    "        plt.ylabel(\"Frequency\")\n",
    "        plt.xlabel(\"Degree\")\n",
    "        ax.set_xticks([d+0.05 for d in deg])\n",
    "        ax.set_xticklabels(deg)\n",
    "    "
   ]
  },
  {
   "cell_type": "code",
   "execution_count": 10,
   "metadata": {},
   "outputs": [
    {
     "name": "stdout",
     "output_type": "stream",
     "text": [
      "Name: \n",
      "Type: Graph\n",
      "Number of nodes: 829208\n",
      "Number of edges: 804259\n",
      "Average degree:   1.9398\n",
      "Graph is not connected\n",
      "Diameter and Avg shortest path length are not defined!\n",
      "Sparsity: 0.0000\n",
      "Global clustering coefficient aka Transitivity: 0.0006\n"
     ]
    }
   ],
   "source": [
    "userG = nx.from_pandas_edgelist(friends, 'steamid_a', 'steamid_b', edge_attr=None, create_using= nx.Graph())\n",
    "describe_graph(userG)"
   ]
  },
  {
   "cell_type": "markdown",
   "metadata": {},
   "source": [
    "#### Comments on the graph:\n",
    "So as you can see the number of edges in the graph is less than the number of nodes which explains the null value of the sparcity. The transitivity is low, which is something that we have to consider, since a \"friend of my friend could be my friend\". The average degree in the graph is 1.93 which means that on average each player has two friends."
   ]
  },
  {
   "cell_type": "markdown",
   "metadata": {},
   "source": [
    "#### Adding an attribute to the nodes:"
   ]
  },
  {
   "cell_type": "markdown",
   "metadata": {},
   "source": [
    "In the users dataset we have only access to the informations of 250000 gamer. so we can try to add attributes to the nodes of the network:"
   ]
  },
  {
   "cell_type": "code",
   "execution_count": 11,
   "metadata": {},
   "outputs": [
    {
     "data": {
      "text/plain": [
       "{'personaname': 'slav3'}"
      ]
     },
     "execution_count": 11,
     "metadata": {},
     "output_type": "execute_result"
    }
   ],
   "source": [
    "## Adding attributes to the nodes from the user dataset:\n",
    "nx.set_node_attributes(userG, users['personaname'].to_dict(), 'personaname' )\n",
    "## Verifying :\n",
    "userG.node[76561197972906276]"
   ]
  },
  {
   "cell_type": "markdown",
   "metadata": {},
   "source": [
    "### Analyzing the degree distribution:\n",
    "\n",
    "The $log(frequency)$ of degrees follows a power low."
   ]
  },
  {
   "cell_type": "code",
   "execution_count": 12,
   "metadata": {},
   "outputs": [
    {
     "name": "stdout",
     "output_type": "stream",
     "text": [
      "The maximum degree is 350\n",
      "The minimum degree is 1\n"
     ]
    },
    {
     "data": {
      "image/png": "[encoded data removed]",
      "text/plain": [
       "<Figure size 1440x360 with 1 Axes>"
      ]
     },
     "metadata": {
      "needs_background": "light"
     },
     "output_type": "display_data"
    }
   ],
   "source": [
    "plot_degree_distribution(userG, True)"
   ]
  },
  {
   "cell_type": "markdown",
   "metadata": {},
   "source": [
    "## Analysis of importance :\n",
    "Imagine if we are game developpers and we are intersted to run adds for our new game. Nowadays, adds are expensive so we have to find a way to pay less and to get more 'impactful' views. Like Cambridge Analytica, we will try to use targeted adds (Without stealing data :) ). Network analysis, is a good way to analyse social importance via different metrics. In our case the degree forms a good metric once combined with the transitivity. So if we target the important nodes, we will impact on their neighbors. The degree is not always a good metric, on Twitter some scam accounts are followed by 100000 scam account. There are several metrics to detect important nodes :\n",
    "\n",
    "* Betweeness centrality $C(i)$ : the fraction of all shortest paths in the network that pass through node i (Expensive to compute in our case).\n",
    "\n",
    "* Katz centrality : it's a generalisation of the degree metric. $C(i)$: number of paths from other nodes to i, giving less weight to larger distances (Expensive to compute in our case).\n"
   ]
  },
  {
   "cell_type": "markdown",
   "metadata": {},
   "source": [
    "### Top_10 important gamers, based on the degree:"
   ]
  },
  {
   "cell_type": "code",
   "execution_count": 13,
   "metadata": {},
   "outputs": [
    {
     "name": "stdout",
     "output_type": "stream",
     "text": [
      "The player CreatorZombie having the steamid  76561198080816434  has  350 friend\n",
      "The player 7Focus. 20731 [beaab]  â™¥ having the steamid  76561198074142646  has  349 friend\n",
      "The player complicated having the steamid  76561198000876540  has  315 friend\n",
      "The player =PB R= Medicinal Mushroomfusion having the steamid  76561198029344438  has  315 friend\n",
      "The player _JoSe STREAMLINE having the steamid  76561197972849898  has  310 friend\n",
      "The player Agoat having the steamid  76561197988440812  has  308 friend\n",
      "The player ivnliem having the steamid  76561198086201489  has  302 friend\n",
      "The player *Ù­à¹–Û£ÌƒÛœâ‚©Ä„Í¡â‚®Â¥Ù­* having the steamid  76561197988855674  has  299 friend\n",
      "The player _Ð™Ð°'GOOD'ÐºÐ°_ having the steamid  76561197988419014  has  292 friend\n",
      "The player slav3 having the steamid  76561197972906276  has  290 friend\n"
     ]
    }
   ],
   "source": [
    "## Important gamers in terms of friendship degree:\n",
    "Top_10 = sorted(userG.degree, key=lambda x: x[1], reverse=True)[:10]\n",
    "\n",
    "for (v,d) in Top_10:\n",
    "    print('The player',users.loc[v].at['personaname'],'having the steamid ',v,' has ',d ,'friend')"
   ]
  },
  {
   "cell_type": "markdown",
   "metadata": {},
   "source": [
    "### Visualizing the graph : \n",
    "In this part we will try to visualize the subgraph of `CreatorZombie`and his neighbors. to see the repartition of the edges. "
   ]
  },
  {
   "cell_type": "code",
   "execution_count": 14,
   "metadata": {},
   "outputs": [],
   "source": [
    "def visualize_graph(G, with_labels=True, k=None, alpha=1.0, node_shape='o'):\n",
    "    \n",
    "    pos = nx.spring_layout(G, k=k)\n",
    "    if with_labels:\n",
    "        lab = nx.draw_networkx_labels(G, pos, labels=dict([(n, n) for n in G.nodes()]))\n",
    "    ec = nx.draw_networkx_edges(G, pos, alpha=alpha)\n",
    "    nc = nx.draw_networkx_nodes(G, pos, nodelist=G.nodes(), node_color='b', node_shape=node_shape)\n",
    "    plt.axis('off')"
   ]
  },
  {
   "cell_type": "code",
   "execution_count": 15,
   "metadata": {},
   "outputs": [],
   "source": [
    "# Lets check by looking at the subgraph induced by \"CreatorZombie\"\n",
    "subgraph_CZ = userG.subgraph([76561198080816434]+list(userG.neighbors(76561198080816434)))\n"
   ]
  },
  {
   "cell_type": "code",
   "execution_count": 16,
   "metadata": {},
   "outputs": [
    {
     "data": {
      "image/png": "[encoded data removed]",
      "text/plain": [
       "<Figure size 432x288 with 1 Axes>"
      ]
     },
     "metadata": {},
     "output_type": "display_data"
    }
   ],
   "source": [
    "visualize_graph(subgraph_CZ, False, alpha=0.5)"
   ]
  },
  {
   "cell_type": "code",
   "execution_count": 17,
   "metadata": {},
   "outputs": [
    {
     "name": "stdout",
     "output_type": "stream",
     "text": [
      "Name: \n",
      "Type: Graph\n",
      "Number of nodes: 351\n",
      "Number of edges: 350\n",
      "Average degree:   1.9943\n",
      "Avg. Shortest Path Length: 1.9943\n",
      "Diameter: 2.0000\n",
      "Sparsity: 0.0057\n",
      "Global clustering coefficient aka Transitivity: 0.0000\n"
     ]
    }
   ],
   "source": [
    "describe_graph(subgraph_CZ)"
   ]
  },
  {
   "cell_type": "markdown",
   "metadata": {},
   "source": [
    "### Comments:\n",
    "\n",
    "The graph and the describtion proves the importance of player 'CreatorZombie'. All the neighbors of `creatorzombie`does not share an edge, $Transitivity$=0. We see from the figure the centrality of the player and the Star shape of the graph."
   ]
  },
  {
   "cell_type": "markdown",
   "metadata": {},
   "source": [
    "If we consider a player with a median degree and inspect its graph:"
   ]
  },
  {
   "cell_type": "code",
   "execution_count": 18,
   "metadata": {},
   "outputs": [],
   "source": [
    "### Order statistic gives us the quantile (the user) given a probability p and subject to the degree distribution:\n",
    "def order_statistic(k):\n",
    "    Sorted_degrees = sorted(userG.degree, key=lambda x: x[1], reverse=False)\n",
    "    n = len(Sorted_degrees)\n",
    "    return Sorted_degrees[int(k*n)-1]"
   ]
  },
  {
   "cell_type": "code",
   "execution_count": 19,
   "metadata": {},
   "outputs": [
    {
     "data": {
      "text/plain": [
       "(76561198085420672, 1)"
      ]
     },
     "execution_count": 19,
     "metadata": {},
     "output_type": "execute_result"
    }
   ],
   "source": [
    "order_statistic(0.5)"
   ]
  },
  {
   "cell_type": "markdown",
   "metadata": {},
   "source": [
    "The median degree is 1, we can check the 3rd quartile:"
   ]
  },
  {
   "cell_type": "code",
   "execution_count": 20,
   "metadata": {},
   "outputs": [
    {
     "data": {
      "text/plain": [
       "(76561197973916491, 1)"
      ]
     },
     "execution_count": 20,
     "metadata": {},
     "output_type": "execute_result"
    }
   ],
   "source": [
    "## Q3 :\n",
    "order_statistic(0.75)"
   ]
  },
  {
   "cell_type": "markdown",
   "metadata": {},
   "source": [
    "The 3rd quartile has also degree 1, So we can check the 0.99 empiric quantile:"
   ]
  },
  {
   "cell_type": "code",
   "execution_count": 21,
   "metadata": {},
   "outputs": [
    {
     "data": {
      "text/plain": [
       "(76561198027871932, 24)"
      ]
     },
     "execution_count": 21,
     "metadata": {},
     "output_type": "execute_result"
    }
   ],
   "source": [
    "## 0.99 empiric quantile of the degree distribution :\n",
    "order_statistic(0.99)"
   ]
  },
  {
   "cell_type": "code",
   "execution_count": 22,
   "metadata": {},
   "outputs": [
    {
     "name": "stdout",
     "output_type": "stream",
     "text": [
      "Name: \n",
      "Type: Graph\n",
      "Number of nodes: 107\n",
      "Number of edges: 106\n",
      "Average degree:   1.9813\n",
      "Avg. Shortest Path Length: 1.9813\n",
      "Diameter: 2.0000\n",
      "Sparsity: 0.0187\n",
      "Global clustering coefficient aka Transitivity: 0.0000\n"
     ]
    },
    {
     "data": {
      "image/png": "[encoded data removed]",
      "text/plain": [
       "<Figure size 432x288 with 1 Axes>"
      ]
     },
     "metadata": {},
     "output_type": "display_data"
    }
   ],
   "source": [
    "subgraph_99 = userG.subgraph([76561198079131308]+list(userG.neighbors(76561198079131308)))\n",
    "describe_graph(subgraph_99)\n",
    "visualize_graph(subgraph_99, False, alpha=0.5)"
   ]
  },
  {
   "cell_type": "markdown",
   "metadata": {},
   "source": [
    "Our network is more or less a union of star shaped networks where we can find the nodes of steam_a column in the middle and the nodes of steamid_b connected to them. Since the transitivity of the whole graph is not zero so there are some star shaped subgraphs which are connected. The next step will be the inspection of the connected components."
   ]
  },
  {
   "cell_type": "markdown",
   "metadata": {},
   "source": [
    "## Connected Components :\n",
    "The analysis of connected component is a sort of clustering based on a relation. The items belonging to the same component share the same behavior giving a relation. "
   ]
  },
  {
   "cell_type": "code",
   "execution_count": 23,
   "metadata": {},
   "outputs": [
    {
     "name": "stdout",
     "output_type": "stream",
     "text": [
      "The graph contains 50165 connected components\n"
     ]
    }
   ],
   "source": [
    "## the list and the number of connected components:\n",
    "comp = list(nx.connected_components(userG))\n",
    "print('The graph contains', len(comp), 'connected components')"
   ]
  },
  {
   "cell_type": "code",
   "execution_count": 24,
   "metadata": {},
   "outputs": [
    {
     "name": "stdout",
     "output_type": "stream",
     "text": [
      "The largest component has 538869 nodes accounting for 64.99 % of the nodes\n"
     ]
    }
   ],
   "source": [
    "## Maximum size connencted component :\n",
    "largest_comp = max(comp, key=len)\n",
    "percentage_lcc = len(largest_comp)/userG.number_of_nodes() * 100\n",
    "print('The largest component has', len(largest_comp), 'nodes', 'accounting for %.2f'% percentage_lcc, '% of the nodes') "
   ]
  },
  {
   "cell_type": "code",
   "execution_count": 25,
   "metadata": {},
   "outputs": [
    {
     "name": "stdout",
     "output_type": "stream",
     "text": [
      "Name: \n",
      "Type: Graph\n",
      "Number of nodes: 538869\n",
      "Number of edges: 563224\n",
      "Average degree:   2.0904\n",
      "The sparsity 3.879230213849518e-06\n",
      "The Global clustering coefficient aka Transitivity 0.0005474085027344604\n"
     ]
    }
   ],
   "source": [
    "### The giant Component\n",
    "Gcc = sorted(comp, key=len, reverse=True)\n",
    "GC = userG.subgraph(Gcc[0])\n",
    "print(nx.info(GC))\n",
    "##Sparsity:\n",
    "print('The sparsity',nx.density(GC))\n",
    "## Transitivity:\n",
    "print('The Global clustering coefficient aka Transitivity',nx.transitivity(GC))"
   ]
  },
  {
   "cell_type": "markdown",
   "metadata": {},
   "source": [
    "In the giant componnent we have more edges than nodes. The transitivity is not equal to zero. Further, we can inspect the distribution of the size of different gaming communities. It is important to study this aspect because it we can understand the homophily within the group: “Birds of a feather flock together”."
   ]
  },
  {
   "cell_type": "code",
   "execution_count": 26,
   "metadata": {},
   "outputs": [],
   "source": [
    "size_components = list(map(lambda x : len(x),Gcc))"
   ]
  },
  {
   "cell_type": "code",
   "execution_count": 27,
   "metadata": {},
   "outputs": [
    {
     "data": {
      "text/plain": [
       "Text(0.5, 0, 'Components')"
      ]
     },
     "execution_count": 27,
     "metadata": {},
     "output_type": "execute_result"
    },
    {
     "data": {
      "image/png": "[encoded data removed]",
      "text/plain": [
       "<Figure size 1440x360 with 1 Axes>"
      ]
     },
     "metadata": {
      "needs_background": "light"
     },
     "output_type": "display_data"
    }
   ],
   "source": [
    "fig, ax = plt.subplots(figsize=(20,5))\n",
    "plt.plot(np.log(size_components), color='r')\n",
    "plt.title(\"The log(size) per components)\")\n",
    "plt.ylabel(\"log(size)\")\n",
    "plt.xlabel(\"Components\")"
   ]
  },
  {
   "cell_type": "markdown",
   "metadata": {},
   "source": [
    "The communities in gaming are very diverse: we have giant communities with more than 500000 members and we have small ones with 100 members. However, you can see from the plot that the majority of the communities have a $log(size)$ less or equal to 4."
   ]
  },
  {
   "cell_type": "markdown",
   "metadata": {},
   "source": [
    "## Users and groups :\n",
    "In the datasets we have groups, which consiste of users and groupes where they belong. we wanted to inspect if the friendship connections and the connected componnents that we have found in the previous section matches those groups. \n",
    "We will try to investigate the number of groups in the dataframe and compare the repartion of members subject to the group with the repartition in the connected components. This comparision will allow us to see if the friendships are made within the groups. "
   ]
  },
  {
   "cell_type": "code",
   "execution_count": 28,
   "metadata": {},
   "outputs": [
    {
     "data": {
      "text/html": [
       "<div>\n",
       "<style scoped>\n",
       "    .dataframe tbody tr th:only-of-type {\n",
       "        vertical-align: middle;\n",
       "    }\n",
       "\n",
       "    .dataframe tbody tr th {\n",
       "        vertical-align: top;\n",
       "    }\n",
       "\n",
       "    .dataframe thead th {\n",
       "        text-align: right;\n",
       "    }\n",
       "</style>\n",
       "<table border=\"1\" class=\"dataframe\">\n",
       "  <thead>\n",
       "    <tr style=\"text-align: right;\">\n",
       "      <th></th>\n",
       "      <th>steamid</th>\n",
       "      <th>groupid</th>\n",
       "      <th>dateretrieved</th>\n",
       "    </tr>\n",
       "  </thead>\n",
       "  <tbody>\n",
       "    <tr>\n",
       "      <td>0</td>\n",
       "      <td>76561198079301664</td>\n",
       "      <td>2787047</td>\n",
       "      <td>2013-10-03 11:58:56 UTC</td>\n",
       "    </tr>\n",
       "    <tr>\n",
       "      <td>1</td>\n",
       "      <td>76561198079301664</td>\n",
       "      <td>5358</td>\n",
       "      <td>2013-10-03 11:58:56 UTC</td>\n",
       "    </tr>\n",
       "    <tr>\n",
       "      <td>2</td>\n",
       "      <td>76561198079301664</td>\n",
       "      <td>440319</td>\n",
       "      <td>2013-10-03 11:58:56 UTC</td>\n",
       "    </tr>\n",
       "    <tr>\n",
       "      <td>3</td>\n",
       "      <td>76561197974107716</td>\n",
       "      <td>36457</td>\n",
       "      <td>2013-05-14 14:02:40 UTC</td>\n",
       "    </tr>\n",
       "    <tr>\n",
       "      <td>4</td>\n",
       "      <td>76561197974107716</td>\n",
       "      <td>1835884</td>\n",
       "      <td>2013-05-14 14:02:40 UTC</td>\n",
       "    </tr>\n",
       "  </tbody>\n",
       "</table>\n",
       "</div>"
      ],
      "text/plain": [
       "             steamid  groupid            dateretrieved\n",
       "0  76561198079301664  2787047  2013-10-03 11:58:56 UTC\n",
       "1  76561198079301664     5358  2013-10-03 11:58:56 UTC\n",
       "2  76561198079301664   440319  2013-10-03 11:58:56 UTC\n",
       "3  76561197974107716    36457  2013-05-14 14:02:40 UTC\n",
       "4  76561197974107716  1835884  2013-05-14 14:02:40 UTC"
      ]
     },
     "execution_count": 28,
     "metadata": {},
     "output_type": "execute_result"
    }
   ],
   "source": [
    "## Reading groups dataset:\n",
    "Groups = pd.read_csv('data/groups.csv')\n",
    "Groups.head()"
   ]
  },
  {
   "cell_type": "code",
   "execution_count": 29,
   "metadata": {},
   "outputs": [
    {
     "name": "stdout",
     "output_type": "stream",
     "text": [
      "The number of rows: 144751\n",
      "The number of columns: 3\n",
      "Columns name and type:\n",
      "steamid           int64\n",
      "groupid           int64\n",
      "dateretrieved    object\n",
      "dtype: object\n",
      "Null values among the columns:\n",
      "steamid          False\n",
      "groupid          False\n",
      "dateretrieved    False\n",
      "dtype: bool\n"
     ]
    }
   ],
   "source": [
    "info(Groups)"
   ]
  },
  {
   "cell_type": "code",
   "execution_count": 30,
   "metadata": {},
   "outputs": [],
   "source": [
    "## grouping subject to the groups\n",
    "Groups = Groups.groupby('groupid').count()"
   ]
  },
  {
   "cell_type": "code",
   "execution_count": 31,
   "metadata": {},
   "outputs": [],
   "source": [
    "## Getting the number of members within each group and sort it\n",
    "sorted_sizes = sorted((Groups['steamid']), reverse = True )"
   ]
  },
  {
   "cell_type": "code",
   "execution_count": 32,
   "metadata": {},
   "outputs": [
    {
     "name": "stdout",
     "output_type": "stream",
     "text": [
      "The number of rows: 59658\n",
      "The number of columns: 2\n",
      "Columns name and type:\n",
      "steamid          int64\n",
      "dateretrieved    int64\n",
      "dtype: object\n",
      "Null values among the columns:\n",
      "steamid          False\n",
      "dateretrieved    False\n",
      "dtype: bool\n"
     ]
    }
   ],
   "source": [
    "info(Groups)"
   ]
  },
  {
   "cell_type": "code",
   "execution_count": 33,
   "metadata": {},
   "outputs": [
    {
     "data": {
      "text/plain": [
       "Text(0.5, 0, 'Groups')"
      ]
     },
     "execution_count": 33,
     "metadata": {},
     "output_type": "execute_result"
    },
    {
     "data": {
      "image/png": "[encoded data removed]",
      "text/plain": [
       "<Figure size 1440x360 with 1 Axes>"
      ]
     },
     "metadata": {
      "needs_background": "light"
     },
     "output_type": "display_data"
    }
   ],
   "source": [
    "## Plotting the repartion of the number of members within the groups\n",
    "fig, ax = plt.subplots(figsize=(20,5))\n",
    "plt.plot(np.log(sorted_sizes), color='r')\n",
    "plt.title(\"The log(size) per groups\")\n",
    "plt.ylabel(\"log(size)\")\n",
    "plt.xlabel(\"Groups\")"
   ]
  },
  {
   "cell_type": "markdown",
   "metadata": {},
   "source": [
    "## Groups vs connected components:\n",
    "So we have in total 59658 groups against 50165 components. So in total we have around 9500 additional group in the gamining community compared to the component. This make sense since each gamer represents a node in the network that we have built so he belongs to a unique connencted component. In the other hand, a gamer can belong to different groups (the first two rows of the Groups dataframe above).  The distribution of the size within groups, shows the same shape as the one within the components. "
   ]
  },
  {
   "cell_type": "code",
   "execution_count": null,
   "metadata": {},
   "outputs": [],
   "source": []
  }
 ],
 "metadata": {
  "kernelspec": {
   "display_name": "Python 3",
   "language": "python",
   "name": "python3"
  },
  "language_info": {
   "codemirror_mode": {
    "name": "ipython",
    "version": 3
   },
   "file_extension": ".py",
   "mimetype": "text/x-python",
   "name": "python",
   "nbconvert_exporter": "python",
   "pygments_lexer": "ipython3",
   "version": "3.7.4"
  }
 },
 "nbformat": 4,
 "nbformat_minor": 2
}
