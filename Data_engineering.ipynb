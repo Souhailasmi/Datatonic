{
 "cells": [
  {
   "cell_type": "markdown",
   "metadata": {},
   "source": [
    "## Importing the data :"
   ]
  },
  {
   "cell_type": "markdown",
   "metadata": {},
   "source": [
    "### Intialization Spark session:"
   ]
  },
  {
   "cell_type": "code",
   "execution_count": 1,
   "metadata": {},
   "outputs": [],
   "source": [
    "import pyspark\n",
    "import pyspark.sql\n",
    "from pyspark.sql import *\n",
    "import pyspark.sql.functions as F\n",
    "from pyspark.sql.functions import *\n",
    "from pyspark.sql.functions import col, udf, explode, rank, unix_timestamp, from_unixtime\n",
    "from pyspark.ml.feature import Tokenizer, RegexTokenizer, StopWordsRemover\n",
    "from pyspark.sql.types import IntegerType\n",
    "from pyspark.sql.window import Window\n",
    "import numpy as np\n",
    "\n",
    "conf = pyspark.SparkConf().setMaster(\"local[*]\").setAll([\n",
    "                                   ('spark.executor.memory', '12g'),  # find\n",
    "                                   ('spark.driver.memory','4g'), # your\n",
    "                                   ('spark.driver.maxResultSize', '2G'), # setup\n",
    "                                   ('spark.sql.broadcastTimeout',  '1000')\n",
    "                                  ])\n",
    "# create the session\n",
    "spark = SparkSession.builder.config(conf=conf).getOrCreate()\n",
    "\n",
    "# create the context\n",
    "sc = spark.sparkContext\n",
    "\n",
    "# FIX for Spark 2.x\n",
    "locale = sc._jvm.java.util.Locale\n",
    "locale.setDefault(locale.forLanguageTag(\"en-US\"))\n",
    "\n",
    "\n"
   ]
  },
  {
   "cell_type": "markdown",
   "metadata": {},
   "source": [
    "### Importing data:"
   ]
  },
  {
   "cell_type": "markdown",
   "metadata": {},
   "source": [
    "The info function outputs the dimenstions of the dataframe and the name of columns:"
   ]
  },
  {
   "cell_type": "code",
   "execution_count": 2,
   "metadata": {},
   "outputs": [],
   "source": [
    "### Defining the info function :\n",
    "def info(df,show=True,n=2):\n",
    "    print(\"Number of columns: \",len(df.columns))\n",
    "    print(\"Number of rows: \", df.count())\n",
    "    print(\"Name of columns and types:\", df.dtypes)\n",
    "    if show:\n",
    "        df.show(n)"
   ]
  },
  {
   "cell_type": "code",
   "execution_count": 3,
   "metadata": {},
   "outputs": [
    {
     "name": "stdout",
     "output_type": "stream",
     "text": [
      "Number of columns:  10\n",
      "Number of rows:  250000\n",
      "Name of columns and types: [('steamid', 'string'), ('lastlogoff', 'string'), ('primaryclanid', 'string'), ('timecreated', 'string'), ('gameid', 'string'), ('gameserverip', 'string'), ('loccountrycode', 'string'), ('locstatecode', 'string'), ('loccityid', 'string'), ('dateretrieved', 'string')]\n"
     ]
    }
   ],
   "source": [
    "## Player_summaries:\n",
    "Player_summaries=spark.read.csv(\"data/Player_summaries.csv\",header=True).select(\"steamid\",\"lastlogoff\",\"primaryclanid\",\n",
    "                                                                               \"timecreated\",\"gameid\",\"gameserverip\",\n",
    "                                                                                \"loccountrycode\",\"locstatecode\",\n",
    "                                                                                \"loccityid\",\"dateretrieved\")\n",
    "info(Player_summaries,False)\n"
   ]
  },
  {
   "cell_type": "code",
   "execution_count": 4,
   "metadata": {},
   "outputs": [
    {
     "name": "stdout",
     "output_type": "stream",
     "text": [
      "Number of columns:  2\n",
      "Number of rows:  18761\n",
      "Name of columns and types: [('appid', 'string'), ('Publisher', 'string')]\n",
      "+------+---------+\n",
      "| appid|Publisher|\n",
      "+------+---------+\n",
      "|207990|     null|\n",
      "|215220|     null|\n",
      "+------+---------+\n",
      "only showing top 2 rows\n",
      "\n"
     ]
    }
   ],
   "source": [
    "## Game_publisher:\n",
    "Game_publisher = spark.read.csv(\"data/Games_publishers.csv\", header=True)\n",
    "info(Game_publisher)"
   ]
  },
  {
   "cell_type": "code",
   "execution_count": 5,
   "metadata": {},
   "outputs": [
    {
     "name": "stdout",
     "output_type": "stream",
     "text": [
      "Number of columns:  2\n",
      "Number of rows:  39669\n",
      "Name of columns and types: [('appid', 'string'), ('Genre', 'string')]\n",
      "+-----+-----+\n",
      "|appid|Genre|\n",
      "+-----+-----+\n",
      "| 7290|  RPG|\n",
      "| 8980|  RPG|\n",
      "|18010|  RPG|\n",
      "|18040|  RPG|\n",
      "+-----+-----+\n",
      "only showing top 4 rows\n",
      "\n"
     ]
    }
   ],
   "source": [
    "## Game_genre:\n",
    "Game_genre = spark.read.csv(\"data/Games_Genres.csv\", header=True)\n",
    "info(Game_genre,True,4)"
   ]
  },
  {
   "cell_type": "code",
   "execution_count": 6,
   "metadata": {},
   "outputs": [
    {
     "name": "stdout",
     "output_type": "stream",
     "text": [
      "Number of columns:  2\n",
      "Number of rows:  19333\n",
      "Name of columns and types: [('appid', 'string'), ('Developer', 'string')]\n",
      "+------+---------+\n",
      "| appid|Developer|\n",
      "+------+---------+\n",
      "|462530|       8i|\n",
      "|452420|       M2|\n",
      "|466530|       M2|\n",
      "|366960|       UD|\n",
      "+------+---------+\n",
      "only showing top 4 rows\n",
      "\n"
     ]
    }
   ],
   "source": [
    "## Game_developers:\n",
    "Game_developer = spark.read.csv(\"data/Games_developers.csv\", header=True)\n",
    "info(Game_developer,True,4)"
   ]
  },
  {
   "cell_type": "code",
   "execution_count": 7,
   "metadata": {},
   "outputs": [
    {
     "name": "stdout",
     "output_type": "stream",
     "text": [
      "Number of columns:  5\n",
      "Number of rows:  628117\n",
      "Name of columns and types: [('steamid', 'string'), ('appid', 'string'), ('playtime_2weeks', 'string'), ('playtime_forever', 'string'), ('dateretrieved', 'string')]\n",
      "+-----------------+------+---------------+----------------+--------------------+\n",
      "|          steamid| appid|playtime_2weeks|playtime_forever|       dateretrieved|\n",
      "+-----------------+------+---------------+----------------+--------------------+\n",
      "|76561198001291264|  8870|           null|            1392|2013-06-09 01:01:...|\n",
      "|76561198001291264|   400|           null|             239|2013-06-09 01:01:...|\n",
      "|76561198001291264|212910|           null|             130|2013-06-09 01:01:...|\n",
      "|76561198001291264|   550|           null|           17547|2013-06-09 01:01:...|\n",
      "+-----------------+------+---------------+----------------+--------------------+\n",
      "only showing top 4 rows\n",
      "\n"
     ]
    }
   ],
   "source": [
    "### Game_1:\n",
    "Game_1 = spark.read.csv(\"data/Games_1.csv\", header=True)\n",
    "info(Game_1,True,4)"
   ]
  },
  {
   "cell_type": "code",
   "execution_count": 8,
   "metadata": {},
   "outputs": [
    {
     "name": "stdout",
     "output_type": "stream",
     "text": [
      "Number of columns:  8\n",
      "Number of rows:  17783\n",
      "Name of columns and types: [('appid', 'string'), ('Title', 'string'), ('Type', 'string'), ('Price', 'string'), ('Release_Date', 'string'), ('Rating', 'string'), ('Required_Age', 'string'), ('Is_Multiplayer', 'string')]\n"
     ]
    }
   ],
   "source": [
    "### ALL_games:\n",
    "all_games=spark.read.csv(\"data/App_ID_Info.csv\", header=True)\n",
    "info(all_games,False)"
   ]
  },
  {
   "cell_type": "markdown",
   "metadata": {},
   "source": [
    "### Joining Dataframes:"
   ]
  },
  {
   "cell_type": "markdown",
   "metadata": {},
   "source": [
    "We can see that the four dataframes: Game_1, Game_publisher, Game_genre and Game_developer, share the column \"appid\". We can join all the four dataframes based on the index. \n",
    "Since our main concern is games we will apply a left join, by keeping the appid index of the dataframe Game_1, and matching all information contained in the remaining datasets: \n",
    "\n",
    "But before, we will add all information concerning one single game to the dataset all_games so that we have one data set gathering all information about games."
   ]
  },
  {
   "cell_type": "code",
   "execution_count": 9,
   "metadata": {},
   "outputs": [
    {
     "name": "stdout",
     "output_type": "stream",
     "text": [
      "Number of columns:  11\n",
      "Number of rows:  46803\n",
      "Name of columns and types: [('appid', 'string'), ('Title', 'string'), ('Type', 'string'), ('Price', 'string'), ('Release_Date', 'string'), ('Rating', 'string'), ('Required_Age', 'string'), ('Is_Multiplayer', 'string'), ('Genre', 'string'), ('Publisher', 'string'), ('Developer', 'string')]\n"
     ]
    }
   ],
   "source": [
    "### Joining the datasets to get a complete information data set about games:\n",
    "Game=all_games.join(Game_genre, on=['appid'], how='left').join(Game_publisher, on=['appid'], how='left').join(Game_developer,on=['appid'], how='left')\n",
    "info(Game,False)"
   ]
  },
  {
   "cell_type": "markdown",
   "metadata": {},
   "source": [
    "Remark: Some games have multiple genre, publisher and Developer. It is one vs many join:"
   ]
  },
  {
   "cell_type": "code",
   "execution_count": 10,
   "metadata": {},
   "outputs": [
    {
     "name": "stdout",
     "output_type": "stream",
     "text": [
      "Number of columns:  8\n",
      "Number of rows:  1163206\n",
      "Name of columns and types: [('appid', 'string'), ('steamid', 'string'), ('playtime_2weeks', 'string'), ('playtime_forever', 'string'), ('dateretrieved', 'string'), ('Genre', 'string'), ('Publisher', 'string'), ('Developer', 'string')]\n",
      "+------+-----------------+---------------+----------------+--------------------+------+---------------+--------------+\n",
      "| appid|          steamid|playtime_2weeks|playtime_forever|       dateretrieved| Genre|      Publisher|     Developer|\n",
      "+------+-----------------+---------------+----------------+--------------------+------+---------------+--------------+\n",
      "|108800|76561198077274880|           null|              47|2013-09-23 05:39:...|Action|Electronic Arts|Crytek Studios|\n",
      "|108800|76561198028125440|           null|             427|2013-07-12 17:16:...|Action|Electronic Arts|Crytek Studios|\n",
      "+------+-----------------+---------------+----------------+--------------------+------+---------------+--------------+\n",
      "only showing top 2 rows\n",
      "\n"
     ]
    }
   ],
   "source": [
    "# joining Game_1 with a subset of columns of Game:\n",
    "Partial_game= Game.select(\"appid\",\"Genre\",\"Publisher\",\"Developer\")\n",
    "Joined_game=Game_1.join(Partial_game,on=\"appid\",how=\"left\")\n",
    "info(Joined_game)"
   ]
  },
  {
   "cell_type": "markdown",
   "metadata": {},
   "source": [
    "### the number of games per publisher:"
   ]
  },
  {
   "cell_type": "code",
   "execution_count": 11,
   "metadata": {},
   "outputs": [],
   "source": [
    "import matplotlib.pyplot as plt"
   ]
  },
  {
   "cell_type": "markdown",
   "metadata": {},
   "source": [
    "After a groupBy, The Dataframe is small enough to be moved to Pandas:"
   ]
  },
  {
   "cell_type": "code",
   "execution_count": 12,
   "metadata": {},
   "outputs": [],
   "source": [
    "## Rmoving null publishers:\n",
    "Filtered_game_publisher=Game.where(Game.Publisher.isNotNull())\n",
    "## Grouping and aggregating:\n",
    "game_per_publisher= Filtered_game_publisher.groupBy('Publisher').agg(countDistinct(\"appid\")\\\n",
    "                                                           .alias(\"number of games\"))\\\n",
    "                                                           .sort(desc(\"number of games\"))\\\n",
    "                                                           .toPandas()\n",
    "## Top 10 publishers:                                           \n",
    "Top_ten_publishers=game_per_publisher.iloc[0:10,]"
   ]
  },
  {
   "cell_type": "code",
   "execution_count": 13,
   "metadata": {},
   "outputs": [
    {
     "data": {
      "image/png": "[encoded data removed]",
      "text/plain": [
       "<Figure size 1080x504 with 1 Axes>"
      ]
     },
     "metadata": {
      "needs_background": "light"
     },
     "output_type": "display_data"
    }
   ],
   "source": [
    "## Barplot fo the top10 publishers:\n",
    "Top_ten_publishers.plot(kind='bar', x='Publisher', y='number of games', alpha=0.5, capsize=5, \n",
    "               figsize=(15,7))\n",
    "\n",
    "plt.xlabel(\"Publisher\", size='large')\n",
    "plt.ylabel(\"Number of games\", size=\"large\")\n",
    "plt.title(\"Number of games per publisher\", size=\"large\")\n",
    "plt.show();\n"
   ]
  },
  {
   "cell_type": "markdown",
   "metadata": {},
   "source": [
    "### The number of games per genre:"
   ]
  },
  {
   "cell_type": "code",
   "execution_count": 14,
   "metadata": {},
   "outputs": [],
   "source": [
    "### Removing the missing vulues:\n",
    "Filtered_game_genre=Game.where(Game.Genre.isNotNull())\n",
    "## Grouping and aggregating:\n",
    "game_per_genre= Filtered_game_genre.groupBy('Genre').agg(countDistinct(\"appid\")\\\n",
    "                                                           .alias(\"number of games\"))\\\n",
    "                                                           .sort(desc(\"number of games\"))\\\n",
    "                                                           .toPandas()\n",
    "## Top 10 publishers:                             \n",
    "Top_ten_genre=game_per_genre.iloc[0:10,]\n"
   ]
  },
  {
   "cell_type": "code",
   "execution_count": 15,
   "metadata": {},
   "outputs": [
    {
     "data": {
      "image/png": "[encoded data removed]",
      "text/plain": [
       "<Figure size 1080x504 with 1 Axes>"
      ]
     },
     "metadata": {
      "needs_background": "light"
     },
     "output_type": "display_data"
    }
   ],
   "source": [
    "## Barplot fo the top10 publishers:\n",
    "Top_ten_genre.plot(kind='bar', x='Genre', y='number of games', alpha=0.5, capsize=5, \n",
    "               figsize=(15,7), color=\"olive\")\n",
    "\n",
    "plt.xlabel(\"Genre\", size='large')\n",
    "plt.ylabel(\"Number of games\", size=\"large\")\n",
    "plt.title(\"Number of games per genre\", size=\"large\")\n",
    "plt.show();"
   ]
  },
  {
   "cell_type": "markdown",
   "metadata": {},
   "source": [
    "### Day/Hour of account creation:\n",
    "As we saw above, the type of time created is a string, so we have to converted to a datetime type then we extract the year, the month, the day and the hour of creation of each account.  "
   ]
  },
  {
   "cell_type": "code",
   "execution_count": 16,
   "metadata": {},
   "outputs": [
    {
     "name": "stdout",
     "output_type": "stream",
     "text": [
      "+-------------------+\n",
      "|        timecreated|\n",
      "+-------------------+\n",
      "|2012-12-25 10:16:58|\n",
      "|2012-12-24 08:22:32|\n",
      "|2007-03-20 13:41:46|\n",
      "|2012-11-22 18:15:10|\n",
      "|2012-11-29 08:13:37|\n",
      "+-------------------+\n",
      "only showing top 5 rows\n",
      "\n"
     ]
    }
   ],
   "source": [
    "### the date is given in the following form: YYYY-MM-DD HH:mm:s\n",
    "Player_summaries.select(\"timecreated\").distinct().show(5)"
   ]
  },
  {
   "cell_type": "code",
   "execution_count": 17,
   "metadata": {},
   "outputs": [
    {
     "data": {
      "text/plain": [
       "14810"
      ]
     },
     "execution_count": 17,
     "metadata": {},
     "output_type": "execute_result"
    }
   ],
   "source": [
    "## Number of missing dates:\n",
    "Player_summaries.filter(Player_summaries.timecreated.isNull()).count()"
   ]
  },
  {
   "cell_type": "code",
   "execution_count": 18,
   "metadata": {},
   "outputs": [
    {
     "name": "stdout",
     "output_type": "stream",
     "text": [
      "Number of columns:  2\n",
      "Number of rows:  235190\n",
      "Name of columns and types: [('steamid', 'string'), ('timecreated', 'string')]\n",
      "+-----------------+-------------------+\n",
      "|          steamid|        timecreated|\n",
      "+-----------------+-------------------+\n",
      "|76561197972581736|2004-12-29 09:00:06|\n",
      "|76561198080962334|2013-01-08 13:54:23|\n",
      "+-----------------+-------------------+\n",
      "only showing top 2 rows\n",
      "\n"
     ]
    }
   ],
   "source": [
    "## selecting necessary columns:\n",
    "date_time = Player_summaries.select(\"steamid\",\"timecreated\")\n",
    "##Removing missing dates:\n",
    "filtered_date_time = date_time.where(date_time.timecreated.isNotNull())\n",
    "info(filtered_date_time)"
   ]
  },
  {
   "cell_type": "code",
   "execution_count": 19,
   "metadata": {},
   "outputs": [
    {
     "name": "stdout",
     "output_type": "stream",
     "text": [
      "Number of columns:  6\n",
      "Number of rows:  235190\n",
      "Name of columns and types: [('steamid', 'string'), ('datecreated', 'timestamp'), ('year', 'int'), ('month', 'int'), ('day_month', 'int'), ('hour', 'int')]\n",
      "+-----------------+-------------------+----+-----+---------+----+\n",
      "|          steamid|        datecreated|year|month|day_month|hour|\n",
      "+-----------------+-------------------+----+-----+---------+----+\n",
      "|76561197972581736|2004-12-29 09:00:06|2004|   12|       29|   9|\n",
      "|76561198080962334|2013-01-08 13:54:23|2013|    1|        8|  13|\n",
      "|76561198074103256|2012-10-23 01:16:14|2012|   10|       23|   1|\n",
      "|76561198001266978|2008-09-16 00:39:53|2008|    9|       16|   0|\n",
      "|76561198028014428|2010-07-22 02:13:58|2010|    7|       22|   2|\n",
      "|76561198000701276|2008-08-21 09:08:49|2008|    8|       21|   9|\n",
      "|76561198028706706|2010-08-08 11:48:35|2010|    8|        8|  11|\n",
      "|76561198081192810|2013-01-11 14:05:44|2013|    1|       11|  14|\n",
      "|76561197972561528|2004-12-28 20:35:55|2004|   12|       28|  20|\n",
      "|76561198074035916|2012-10-21 08:06:41|2012|   10|       21|   8|\n",
      "+-----------------+-------------------+----+-----+---------+----+\n",
      "only showing top 10 rows\n",
      "\n"
     ]
    }
   ],
   "source": [
    "from pyspark.sql.types import DateType, TimestampType\n",
    "from datetime import datetime\n",
    "\n",
    "## Here we will parse the dates into a TimestampType\n",
    "to_date = udf(lambda x : datetime.strptime(x, '%Y-%m-%d %H:%M:%S'), TimestampType())\n",
    "\n",
    "updated_date = filtered_date_time.withColumn('datecreated',to_date(col('timecreated')))\n",
    "\n",
    "## We extract the year/the month/the day of the month/ the hour from the datecreated column \n",
    "updated_date = updated_date.select('steamid','datecreated',year(col('datecreated')).alias('year')\\\n",
    "                                 ,month(col('datecreated')).alias('month')\\\n",
    "                                ,dayofmonth(col('datecreated')).alias('day_month')\\\n",
    "                                ,hour(col('datecreated')).alias('hour'))\n",
    "info(updated_date,True,10)"
   ]
  },
  {
   "cell_type": "markdown",
   "metadata": {},
   "source": [
    "Now we can group the steamid subject to the date of account creation:"
   ]
  },
  {
   "cell_type": "code",
   "execution_count": 20,
   "metadata": {},
   "outputs": [
    {
     "data": {
      "text/html": [
       "<div>\n",
       "<style scoped>\n",
       "    .dataframe tbody tr th:only-of-type {\n",
       "        vertical-align: middle;\n",
       "    }\n",
       "\n",
       "    .dataframe tbody tr th {\n",
       "        vertical-align: top;\n",
       "    }\n",
       "\n",
       "    .dataframe thead th {\n",
       "        text-align: right;\n",
       "    }\n",
       "</style>\n",
       "<table border=\"1\" class=\"dataframe\">\n",
       "  <thead>\n",
       "    <tr style=\"text-align: right;\">\n",
       "      <th></th>\n",
       "      <th>year</th>\n",
       "      <th>month</th>\n",
       "      <th>day_month</th>\n",
       "      <th>hour</th>\n",
       "      <th>Number of accounts created</th>\n",
       "    </tr>\n",
       "  </thead>\n",
       "  <tbody>\n",
       "    <tr>\n",
       "      <td>0</td>\n",
       "      <td>2012</td>\n",
       "      <td>12</td>\n",
       "      <td>25</td>\n",
       "      <td>10</td>\n",
       "      <td>292</td>\n",
       "    </tr>\n",
       "    <tr>\n",
       "      <td>1</td>\n",
       "      <td>2012</td>\n",
       "      <td>12</td>\n",
       "      <td>25</td>\n",
       "      <td>8</td>\n",
       "      <td>279</td>\n",
       "    </tr>\n",
       "    <tr>\n",
       "      <td>2</td>\n",
       "      <td>2012</td>\n",
       "      <td>12</td>\n",
       "      <td>25</td>\n",
       "      <td>11</td>\n",
       "      <td>230</td>\n",
       "    </tr>\n",
       "    <tr>\n",
       "      <td>3</td>\n",
       "      <td>2012</td>\n",
       "      <td>11</td>\n",
       "      <td>28</td>\n",
       "      <td>11</td>\n",
       "      <td>219</td>\n",
       "    </tr>\n",
       "    <tr>\n",
       "      <td>4</td>\n",
       "      <td>2012</td>\n",
       "      <td>11</td>\n",
       "      <td>28</td>\n",
       "      <td>10</td>\n",
       "      <td>216</td>\n",
       "    </tr>\n",
       "    <tr>\n",
       "      <td>5</td>\n",
       "      <td>2012</td>\n",
       "      <td>11</td>\n",
       "      <td>28</td>\n",
       "      <td>9</td>\n",
       "      <td>215</td>\n",
       "    </tr>\n",
       "    <tr>\n",
       "      <td>6</td>\n",
       "      <td>2012</td>\n",
       "      <td>12</td>\n",
       "      <td>25</td>\n",
       "      <td>7</td>\n",
       "      <td>208</td>\n",
       "    </tr>\n",
       "    <tr>\n",
       "      <td>7</td>\n",
       "      <td>2012</td>\n",
       "      <td>12</td>\n",
       "      <td>25</td>\n",
       "      <td>4</td>\n",
       "      <td>208</td>\n",
       "    </tr>\n",
       "    <tr>\n",
       "      <td>8</td>\n",
       "      <td>2012</td>\n",
       "      <td>11</td>\n",
       "      <td>28</td>\n",
       "      <td>8</td>\n",
       "      <td>205</td>\n",
       "    </tr>\n",
       "    <tr>\n",
       "      <td>9</td>\n",
       "      <td>2012</td>\n",
       "      <td>12</td>\n",
       "      <td>24</td>\n",
       "      <td>11</td>\n",
       "      <td>204</td>\n",
       "    </tr>\n",
       "  </tbody>\n",
       "</table>\n",
       "</div>"
      ],
      "text/plain": [
       "   year  month  day_month  hour  Number of accounts created\n",
       "0  2012     12         25    10                         292\n",
       "1  2012     12         25     8                         279\n",
       "2  2012     12         25    11                         230\n",
       "3  2012     11         28    11                         219\n",
       "4  2012     11         28    10                         216\n",
       "5  2012     11         28     9                         215\n",
       "6  2012     12         25     7                         208\n",
       "7  2012     12         25     4                         208\n",
       "8  2012     11         28     8                         205\n",
       "9  2012     12         24    11                         204"
      ]
     },
     "execution_count": 20,
     "metadata": {},
     "output_type": "execute_result"
    }
   ],
   "source": [
    "### Grouping the accounts subject to the date of creation\n",
    "grouped_date = updated_date.groupBy(['year','month','day_month','hour']).agg(countDistinct(\"steamid\")\\\n",
    "                                                                      .alias(\"Number of accounts created\"))\\\n",
    "                                                                      .sort(desc(\"Number of accounts created\")).toPandas()\n",
    "grouped_date.head(10)                                                                      "
   ]
  },
  {
   "cell_type": "markdown",
   "metadata": {},
   "source": [
    "We can see that 2012/12/25 at 10am is the day with maximum account creation. This make sense, since it was a christmas day and a lot of well known games were released between november and december 2012 on the steam plateform ( the walking dead, Far Cry 3, call of duty black ops ...)."
   ]
  },
  {
   "cell_type": "markdown",
   "metadata": {},
   "source": [
    "### Best Month to release a game on steam:"
   ]
  },
  {
   "cell_type": "code",
   "execution_count": 21,
   "metadata": {},
   "outputs": [
    {
     "data": {
      "text/html": [
       "<div>\n",
       "<style scoped>\n",
       "    .dataframe tbody tr th:only-of-type {\n",
       "        vertical-align: middle;\n",
       "    }\n",
       "\n",
       "    .dataframe tbody tr th {\n",
       "        vertical-align: top;\n",
       "    }\n",
       "\n",
       "    .dataframe thead th {\n",
       "        text-align: right;\n",
       "    }\n",
       "</style>\n",
       "<table border=\"1\" class=\"dataframe\">\n",
       "  <thead>\n",
       "    <tr style=\"text-align: right;\">\n",
       "      <th></th>\n",
       "      <th>month</th>\n",
       "      <th>mean</th>\n",
       "      <th>std</th>\n",
       "      <th>count</th>\n",
       "    </tr>\n",
       "  </thead>\n",
       "  <tbody>\n",
       "    <tr>\n",
       "      <td>0</td>\n",
       "      <td>Jan</td>\n",
       "      <td>23.787091</td>\n",
       "      <td>30.940605</td>\n",
       "      <td>1038</td>\n",
       "    </tr>\n",
       "    <tr>\n",
       "      <td>1</td>\n",
       "      <td>Feb</td>\n",
       "      <td>11.264970</td>\n",
       "      <td>9.099986</td>\n",
       "      <td>668</td>\n",
       "    </tr>\n",
       "    <tr>\n",
       "      <td>2</td>\n",
       "      <td>Mar</td>\n",
       "      <td>30.993321</td>\n",
       "      <td>27.815447</td>\n",
       "      <td>1048</td>\n",
       "    </tr>\n",
       "    <tr>\n",
       "      <td>3</td>\n",
       "      <td>Apr</td>\n",
       "      <td>19.468085</td>\n",
       "      <td>15.612099</td>\n",
       "      <td>376</td>\n",
       "    </tr>\n",
       "    <tr>\n",
       "      <td>4</td>\n",
       "      <td>May</td>\n",
       "      <td>2.442922</td>\n",
       "      <td>1.452673</td>\n",
       "      <td>219</td>\n",
       "    </tr>\n",
       "    <tr>\n",
       "      <td>5</td>\n",
       "      <td>Jun</td>\n",
       "      <td>47.175904</td>\n",
       "      <td>17.348110</td>\n",
       "      <td>415</td>\n",
       "    </tr>\n",
       "    <tr>\n",
       "      <td>6</td>\n",
       "      <td>Jul</td>\n",
       "      <td>36.522500</td>\n",
       "      <td>13.211391</td>\n",
       "      <td>400</td>\n",
       "    </tr>\n",
       "    <tr>\n",
       "      <td>7</td>\n",
       "      <td>Aug</td>\n",
       "      <td>31.283784</td>\n",
       "      <td>18.151977</td>\n",
       "      <td>1036</td>\n",
       "    </tr>\n",
       "    <tr>\n",
       "      <td>8</td>\n",
       "      <td>Sep</td>\n",
       "      <td>17.970126</td>\n",
       "      <td>9.022145</td>\n",
       "      <td>636</td>\n",
       "    </tr>\n",
       "    <tr>\n",
       "      <td>9</td>\n",
       "      <td>Oct</td>\n",
       "      <td>51.073684</td>\n",
       "      <td>24.815198</td>\n",
       "      <td>380</td>\n",
       "    </tr>\n",
       "    <tr>\n",
       "      <td>10</td>\n",
       "      <td>Nov</td>\n",
       "      <td>77.594427</td>\n",
       "      <td>39.822739</td>\n",
       "      <td>323</td>\n",
       "    </tr>\n",
       "    <tr>\n",
       "      <td>11</td>\n",
       "      <td>Dec</td>\n",
       "      <td>50.239049</td>\n",
       "      <td>47.028565</td>\n",
       "      <td>799</td>\n",
       "    </tr>\n",
       "  </tbody>\n",
       "</table>\n",
       "</div>"
      ],
      "text/plain": [
       "   month       mean        std  count\n",
       "0    Jan  23.787091  30.940605   1038\n",
       "1    Feb  11.264970   9.099986    668\n",
       "2    Mar  30.993321  27.815447   1048\n",
       "3    Apr  19.468085  15.612099    376\n",
       "4    May   2.442922   1.452673    219\n",
       "5    Jun  47.175904  17.348110    415\n",
       "6    Jul  36.522500  13.211391    400\n",
       "7    Aug  31.283784  18.151977   1036\n",
       "8    Sep  17.970126   9.022145    636\n",
       "9    Oct  51.073684  24.815198    380\n",
       "10   Nov  77.594427  39.822739    323\n",
       "11   Dec  50.239049  47.028565    799"
      ]
     },
     "execution_count": 21,
     "metadata": {},
     "output_type": "execute_result"
    }
   ],
   "source": [
    "## grouping subject to month and aggregating statistics for the confidence intervals\n",
    "month_release = grouped_date.groupby('month').agg({'Number of accounts created':['mean','std','count']})\n",
    "month_release.columns = ['mean','std','count']\n",
    "month_release = month_release.reindex(columns=(month_release.columns))\n",
    "\n",
    "## Renaming the index to months names for the plots\n",
    "month_release = month_release.rename(index={1:'Jan',2:'Feb',3:'Mar',4:'Apr',5:'May',6:'Jun',7:'Jul',8:'Aug',9:'Sep',10:'Oct',11:'Nov',12:'Dec'})\n",
    "\n",
    "##P Transforming the index to a column for the plotting\n",
    "month_release = month_release.reset_index()\n",
    "month_release"
   ]
  },
  {
   "cell_type": "markdown",
   "metadata": {},
   "source": [
    "\n",
    "\n",
    "We will make the assumption that the number of accounts created in a month follows a normal distribution. \n",
    "the assumption is based on : the number of account created follows a light tailed distribution ( If we add an extremal observation it will not affect too much the mean. )  \n",
    "\n",
    "we will built 99% confidence intervals based on the theoretical quantile of a standard normal distribution $q$=2.576"
   ]
  },
  {
   "cell_type": "code",
   "execution_count": 22,
   "metadata": {},
   "outputs": [
    {
     "data": {
      "image/png": "[encoded data removed]",
      "text/plain": [
       "<Figure size 1080x504 with 1 Axes>"
      ]
     },
     "metadata": {
      "needs_background": "light"
     },
     "output_type": "display_data"
    }
   ],
   "source": [
    "Z = 2.576 #The probability of a randomized gaussian variable to be under 2.576 is 0.995\n",
    "\n",
    "month_release['Error'] = Z * month_release[\"std\"] / np.sqrt(month_release[\"count\"])\n",
    "\n",
    "month_release.plot(kind='bar', x='month', y='mean', yerr = 'Error', alpha=0.5, capsize=5, \n",
    "               figsize=(15,7))\n",
    "\n",
    "plt.xlabel(\"Month\", size='large')\n",
    "plt.ylabel(\"Number of account created\", size=\"large\")\n",
    "plt.title(\"Average number of account created with 99% confidence intervals\", size=\"large\")\n",
    "plt.show();\n"
   ]
  },
  {
   "cell_type": "markdown",
   "metadata": {},
   "source": [
    "We can see that, by far, November is the best month to release a game on steam."
   ]
  }
 ],
 "metadata": {
  "kernelspec": {
   "display_name": "Python 3",
   "language": "python",
   "name": "python3"
  },
  "language_info": {
   "codemirror_mode": {
    "name": "ipython",
    "version": 3
   },
   "file_extension": ".py",
   "mimetype": "text/x-python",
   "name": "python",
   "nbconvert_exporter": "python",
   "pygments_lexer": "ipython3",
   "version": "3.7.4"
  }
 },
 "nbformat": 4,
 "nbformat_minor": 2
}
